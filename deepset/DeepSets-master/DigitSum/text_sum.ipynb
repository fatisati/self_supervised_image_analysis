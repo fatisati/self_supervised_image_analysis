{
 "cells": [
  {
   "cell_type": "code",
   "execution_count": 1,
   "metadata": {},
   "outputs": [
    {
     "name": "stderr",
     "output_type": "stream",
     "text": [
      "Using TensorFlow backend.\n"
     ]
    }
   ],
   "source": [
    "import os\n",
    "os.environ[\"CUDA_VISIBLE_DEVICES\"] = '0'\n",
    "import matplotlib\n",
    "import numpy as np\n",
    "import tensorflow as tf\n",
    "import matplotlib.pyplot as plt\n",
    "from IPython.display import SVG\n",
    "import keras.backend as K\n",
    "from keras.layers import Input, Dense, LSTM, GRU, Embedding, Lambda\n",
    "from keras.models import Model, load_model\n",
    "from keras.optimizers import Adam\n",
    "from keras.callbacks import ModelCheckpoint\n",
    "from keras.utils.vis_utils import model_to_dot\n",
    "from tqdm import tqdm,trange"
   ]
  },
  {
   "cell_type": "markdown",
   "metadata": {},
   "source": [
    "# Set parameters"
   ]
  },
  {
   "cell_type": "code",
   "execution_count": 2,
   "metadata": {},
   "outputs": [],
   "source": [
    "num_train_examples = 100000\n",
    "max_train_length = 10\n",
    "\n",
    "num_test_examples = 10000\n",
    "min_test_length=5\n",
    "max_test_length=100\n",
    "step_test_length=5"
   ]
  },
  {
   "cell_type": "markdown",
   "metadata": {},
   "source": [
    "# Generate train data"
   ]
  },
  {
   "cell_type": "code",
   "execution_count": 3,
   "metadata": {},
   "outputs": [
    {
     "name": "stderr",
     "output_type": "stream",
     "text": [
      "Generating train examples: 100%|██████████| 100000/100000 [00:02<00:00, 44873.80it/s]\n"
     ]
    }
   ],
   "source": [
    "X = np.zeros((num_train_examples,max_train_length))\n",
    "sum_X = np.zeros((num_train_examples))\n",
    "for i in tqdm(range(num_train_examples), desc='Generating train examples: '):\n",
    "    n = np.random.randint(1,max_train_length)\n",
    "    for j in range(1,n+1):\n",
    "        X[i,-j] = np.random.randint(1,10)\n",
    "    sum_X[i] = np.sum(X[i])"
   ]
  },
  {
   "cell_type": "markdown",
   "metadata": {},
   "source": [
    "# Generate test data"
   ]
  },
  {
   "cell_type": "code",
   "execution_count": 4,
   "metadata": {},
   "outputs": [],
   "source": [
    "def gen_test_data(num_examples, length):\n",
    "    Y = np.zeros((num_examples, length))\n",
    "    sum_Y = np.zeros((num_examples))\n",
    "    for i in range(num_examples):\n",
    "        for j in range(1,length+1):\n",
    "            Y[i,-j] = np.random.randint(1,10)\n",
    "        sum_Y[i] = np.sum(Y[i])\n",
    "    return Y, sum_Y"
   ]
  },
  {
   "cell_type": "markdown",
   "metadata": {},
   "source": [
    "# DeepSet Model"
   ]
  },
  {
   "cell_type": "code",
   "execution_count": 5,
   "metadata": {},
   "outputs": [],
   "source": [
    "def get_deepset_model(max_length):\n",
    "    input_txt = Input(shape=(max_length,))\n",
    "    x = Embedding(11, 100, mask_zero=True)(input_txt)\n",
    "    x = Dense(30, activation='tanh')(x)\n",
    "    Adder = Lambda(lambda x: K.sum(x, axis=1), output_shape=(lambda shape: (shape[0], shape[2])))\n",
    "    x = Adder(x)\n",
    "    encoded = Dense(1)(x)\n",
    "    summer = Model(input_txt, encoded)\n",
    "    adam = Adam(lr=1e-4, epsilon=1e-3)\n",
    "    summer.compile(optimizer=adam, loss='mae')\n",
    "    return summer"
   ]
  },
  {
   "cell_type": "markdown",
   "metadata": {},
   "source": [
    "# LSTM Model"
   ]
  },
  {
   "cell_type": "code",
   "execution_count": 6,
   "metadata": {},
   "outputs": [],
   "source": [
    "def get_lstm_model(max_length):\n",
    "    input_txt = Input(shape=(max_length,))\n",
    "    x = Embedding(11, 100, mask_zero=True)(input_txt)\n",
    "    x = LSTM(50)(x)\n",
    "    encoded = Dense(1)(x)\n",
    "    summer = Model(input_txt, encoded)\n",
    "    adam = Adam(lr=1e-4)\n",
    "    summer.compile(optimizer=adam, loss='mae')\n",
    "    return summer"
   ]
  },
  {
   "cell_type": "markdown",
   "metadata": {},
   "source": [
    "# GRU Model"
   ]
  },
  {
   "cell_type": "code",
   "execution_count": 7,
   "metadata": {},
   "outputs": [],
   "source": [
    "def get_gru_model(max_length):\n",
    "    input_txt = Input(shape=(max_length,))\n",
    "    x = Embedding(11, 100, mask_zero=True)(input_txt)\n",
    "    x = GRU(80)(x)\n",
    "    encoded = Dense(1)(x)\n",
    "    summer = Model(input_txt, encoded)\n",
    "    adam = Adam(lr=1e-4)\n",
    "    summer.compile(optimizer=adam, loss='mae')\n",
    "    return summer"
   ]
  },
  {
   "cell_type": "markdown",
   "metadata": {},
   "source": [
    "# Train Deepset model"
   ]
  },
  {
   "cell_type": "code",
   "execution_count": 8,
   "metadata": {
    "scrolled": false
   },
   "outputs": [
    {
     "data": {
      "image/svg+xml": [
       "<svg height=\"392pt\" viewBox=\"0.00 0.00 328.00 392.00\" width=\"328pt\" xmlns=\"http://www.w3.org/2000/svg\" xmlns:xlink=\"http://www.w3.org/1999/xlink\">\n",
       "<g class=\"graph\" id=\"graph0\" transform=\"scale(1 1) rotate(0) translate(4 388)\">\n",
       "<title>G</title>\n",
       "<polygon fill=\"white\" points=\"-4,4 -4,-388 324,-388 324,4 -4,4\" stroke=\"none\"/>\n",
       "<!-- 140495930781648 -->\n",
       "<g class=\"node\" id=\"node1\"><title>140495930781648</title>\n",
       "<polygon fill=\"none\" points=\"32,-337 32,-383 288,-383 288,-337 32,-337\" stroke=\"black\"/>\n",
       "<text font-family=\"Times,serif\" font-size=\"14.00\" text-anchor=\"middle\" x=\"94.5\" y=\"-356.3\">input_1: InputLayer</text>\n",
       "<polyline fill=\"none\" points=\"157,-337 157,-383 \" stroke=\"black\"/>\n",
       "<text font-family=\"Times,serif\" font-size=\"14.00\" text-anchor=\"middle\" x=\"184.5\" y=\"-367.8\">input:</text>\n",
       "<polyline fill=\"none\" points=\"157,-360 212,-360 \" stroke=\"black\"/>\n",
       "<text font-family=\"Times,serif\" font-size=\"14.00\" text-anchor=\"middle\" x=\"184.5\" y=\"-344.8\">output:</text>\n",
       "<polyline fill=\"none\" points=\"212,-337 212,-383 \" stroke=\"black\"/>\n",
       "<text font-family=\"Times,serif\" font-size=\"14.00\" text-anchor=\"middle\" x=\"250\" y=\"-367.8\">(None, 10)</text>\n",
       "<polyline fill=\"none\" points=\"212,-360 288,-360 \" stroke=\"black\"/>\n",
       "<text font-family=\"Times,serif\" font-size=\"14.00\" text-anchor=\"middle\" x=\"250\" y=\"-344.8\">(None, 10)</text>\n",
       "</g>\n",
       "<!-- 140495930778176 -->\n",
       "<g class=\"node\" id=\"node2\"><title>140495930778176</title>\n",
       "<polygon fill=\"none\" points=\"0,-253 0,-299 320,-299 320,-253 0,-253\" stroke=\"black\"/>\n",
       "<text font-family=\"Times,serif\" font-size=\"14.00\" text-anchor=\"middle\" x=\"80.5\" y=\"-272.3\">embedding_1: Embedding</text>\n",
       "<polyline fill=\"none\" points=\"161,-253 161,-299 \" stroke=\"black\"/>\n",
       "<text font-family=\"Times,serif\" font-size=\"14.00\" text-anchor=\"middle\" x=\"188.5\" y=\"-283.8\">input:</text>\n",
       "<polyline fill=\"none\" points=\"161,-276 216,-276 \" stroke=\"black\"/>\n",
       "<text font-family=\"Times,serif\" font-size=\"14.00\" text-anchor=\"middle\" x=\"188.5\" y=\"-260.8\">output:</text>\n",
       "<polyline fill=\"none\" points=\"216,-253 216,-299 \" stroke=\"black\"/>\n",
       "<text font-family=\"Times,serif\" font-size=\"14.00\" text-anchor=\"middle\" x=\"268\" y=\"-283.8\">(None, 10)</text>\n",
       "<polyline fill=\"none\" points=\"216,-276 320,-276 \" stroke=\"black\"/>\n",
       "<text font-family=\"Times,serif\" font-size=\"14.00\" text-anchor=\"middle\" x=\"268\" y=\"-260.8\">(None, 10, 100)</text>\n",
       "</g>\n",
       "<!-- 140495930781648&#45;&gt;140495930778176 -->\n",
       "<g class=\"edge\" id=\"edge1\"><title>140495930781648-&gt;140495930778176</title>\n",
       "<path d=\"M160,-336.593C160,-328.118 160,-318.297 160,-309.104\" fill=\"none\" stroke=\"black\"/>\n",
       "<polygon fill=\"black\" points=\"163.5,-309.096 160,-299.096 156.5,-309.096 163.5,-309.096\" stroke=\"black\"/>\n",
       "</g>\n",
       "<!-- 140500308760448 -->\n",
       "<g class=\"node\" id=\"node3\"><title>140500308760448</title>\n",
       "<polygon fill=\"none\" points=\"29.5,-169 29.5,-215 290.5,-215 290.5,-169 29.5,-169\" stroke=\"black\"/>\n",
       "<text font-family=\"Times,serif\" font-size=\"14.00\" text-anchor=\"middle\" x=\"80.5\" y=\"-188.3\">dense_1: Dense</text>\n",
       "<polyline fill=\"none\" points=\"131.5,-169 131.5,-215 \" stroke=\"black\"/>\n",
       "<text font-family=\"Times,serif\" font-size=\"14.00\" text-anchor=\"middle\" x=\"159\" y=\"-199.8\">input:</text>\n",
       "<polyline fill=\"none\" points=\"131.5,-192 186.5,-192 \" stroke=\"black\"/>\n",
       "<text font-family=\"Times,serif\" font-size=\"14.00\" text-anchor=\"middle\" x=\"159\" y=\"-176.8\">output:</text>\n",
       "<polyline fill=\"none\" points=\"186.5,-169 186.5,-215 \" stroke=\"black\"/>\n",
       "<text font-family=\"Times,serif\" font-size=\"14.00\" text-anchor=\"middle\" x=\"238.5\" y=\"-199.8\">(None, 10, 100)</text>\n",
       "<polyline fill=\"none\" points=\"186.5,-192 290.5,-192 \" stroke=\"black\"/>\n",
       "<text font-family=\"Times,serif\" font-size=\"14.00\" text-anchor=\"middle\" x=\"238.5\" y=\"-176.8\">(None, 10, 30)</text>\n",
       "</g>\n",
       "<!-- 140495930778176&#45;&gt;140500308760448 -->\n",
       "<g class=\"edge\" id=\"edge2\"><title>140495930778176-&gt;140500308760448</title>\n",
       "<path d=\"M160,-252.593C160,-244.118 160,-234.297 160,-225.104\" fill=\"none\" stroke=\"black\"/>\n",
       "<polygon fill=\"black\" points=\"163.5,-225.096 160,-215.096 156.5,-225.096 163.5,-225.096\" stroke=\"black\"/>\n",
       "</g>\n",
       "<!-- 140495930851224 -->\n",
       "<g class=\"node\" id=\"node4\"><title>140495930851224</title>\n",
       "<polygon fill=\"none\" points=\"22.5,-85 22.5,-131 297.5,-131 297.5,-85 22.5,-85\" stroke=\"black\"/>\n",
       "<text font-family=\"Times,serif\" font-size=\"14.00\" text-anchor=\"middle\" x=\"84\" y=\"-104.3\">lambda_1: Lambda</text>\n",
       "<polyline fill=\"none\" points=\"145.5,-85 145.5,-131 \" stroke=\"black\"/>\n",
       "<text font-family=\"Times,serif\" font-size=\"14.00\" text-anchor=\"middle\" x=\"173\" y=\"-115.8\">input:</text>\n",
       "<polyline fill=\"none\" points=\"145.5,-108 200.5,-108 \" stroke=\"black\"/>\n",
       "<text font-family=\"Times,serif\" font-size=\"14.00\" text-anchor=\"middle\" x=\"173\" y=\"-92.8\">output:</text>\n",
       "<polyline fill=\"none\" points=\"200.5,-85 200.5,-131 \" stroke=\"black\"/>\n",
       "<text font-family=\"Times,serif\" font-size=\"14.00\" text-anchor=\"middle\" x=\"249\" y=\"-115.8\">(None, 10, 30)</text>\n",
       "<polyline fill=\"none\" points=\"200.5,-108 297.5,-108 \" stroke=\"black\"/>\n",
       "<text font-family=\"Times,serif\" font-size=\"14.00\" text-anchor=\"middle\" x=\"249\" y=\"-92.8\">(None, 30)</text>\n",
       "</g>\n",
       "<!-- 140500308760448&#45;&gt;140495930851224 -->\n",
       "<g class=\"edge\" id=\"edge3\"><title>140500308760448-&gt;140495930851224</title>\n",
       "<path d=\"M160,-168.593C160,-160.118 160,-150.297 160,-141.104\" fill=\"none\" stroke=\"black\"/>\n",
       "<polygon fill=\"black\" points=\"163.5,-141.096 160,-131.096 156.5,-141.096 163.5,-141.096\" stroke=\"black\"/>\n",
       "</g>\n",
       "<!-- 140495930847584 -->\n",
       "<g class=\"node\" id=\"node5\"><title>140495930847584</title>\n",
       "<polygon fill=\"none\" points=\"43.5,-1 43.5,-47 276.5,-47 276.5,-1 43.5,-1\" stroke=\"black\"/>\n",
       "<text font-family=\"Times,serif\" font-size=\"14.00\" text-anchor=\"middle\" x=\"94.5\" y=\"-20.3\">dense_2: Dense</text>\n",
       "<polyline fill=\"none\" points=\"145.5,-1 145.5,-47 \" stroke=\"black\"/>\n",
       "<text font-family=\"Times,serif\" font-size=\"14.00\" text-anchor=\"middle\" x=\"173\" y=\"-31.8\">input:</text>\n",
       "<polyline fill=\"none\" points=\"145.5,-24 200.5,-24 \" stroke=\"black\"/>\n",
       "<text font-family=\"Times,serif\" font-size=\"14.00\" text-anchor=\"middle\" x=\"173\" y=\"-8.8\">output:</text>\n",
       "<polyline fill=\"none\" points=\"200.5,-1 200.5,-47 \" stroke=\"black\"/>\n",
       "<text font-family=\"Times,serif\" font-size=\"14.00\" text-anchor=\"middle\" x=\"238.5\" y=\"-31.8\">(None, 30)</text>\n",
       "<polyline fill=\"none\" points=\"200.5,-24 276.5,-24 \" stroke=\"black\"/>\n",
       "<text font-family=\"Times,serif\" font-size=\"14.00\" text-anchor=\"middle\" x=\"238.5\" y=\"-8.8\">(None, 1)</text>\n",
       "</g>\n",
       "<!-- 140495930851224&#45;&gt;140495930847584 -->\n",
       "<g class=\"edge\" id=\"edge4\"><title>140495930851224-&gt;140495930847584</title>\n",
       "<path d=\"M160,-84.5931C160,-76.1177 160,-66.2974 160,-57.104\" fill=\"none\" stroke=\"black\"/>\n",
       "<polygon fill=\"black\" points=\"163.5,-57.0958 160,-47.0959 156.5,-57.0959 163.5,-57.0958\" stroke=\"black\"/>\n",
       "</g>\n",
       "</g>\n",
       "</svg>"
      ],
      "text/plain": [
       "<IPython.core.display.SVG object>"
      ]
     },
     "execution_count": 8,
     "metadata": {},
     "output_type": "execute_result"
    }
   ],
   "source": [
    "# model\n",
    "model = get_deepset_model(max_train_length)\n",
    "\n",
    "# visualize\n",
    "SVG(model_to_dot(model, show_shapes=True).create(prog='dot', format='svg'))"
   ]
  },
  {
   "cell_type": "code",
   "execution_count": 9,
   "metadata": {},
   "outputs": [
    {
     "name": "stdout",
     "output_type": "stream",
     "text": [
      "Train on 98765 samples, validate on 1235 samples\n",
      "Epoch 1/10\n",
      "98765/98765 [==============================] - 5s 53us/step - loss: 13.2668 - val_loss: 3.5917\n",
      "Epoch 2/10\n",
      "98765/98765 [==============================] - 4s 37us/step - loss: 1.2704 - val_loss: 0.0221\n",
      "Epoch 3/10\n",
      "98765/98765 [==============================] - 4s 38us/step - loss: 0.0132 - val_loss: 0.0174\n",
      "Epoch 4/10\n",
      "98765/98765 [==============================] - 4s 38us/step - loss: 0.0100 - val_loss: 0.0076\n",
      "Epoch 5/10\n",
      "98765/98765 [==============================] - 4s 39us/step - loss: 0.0072 - val_loss: 0.0064\n",
      "Epoch 6/10\n",
      "98765/98765 [==============================] - 4s 38us/step - loss: 0.0087 - val_loss: 0.0026\n",
      "Epoch 7/10\n",
      "98765/98765 [==============================] - 4s 38us/step - loss: 0.0070 - val_loss: 0.0062\n",
      "Epoch 8/10\n",
      "98765/98765 [==============================] - 4s 36us/step - loss: 0.0076 - val_loss: 0.0032\n",
      "Epoch 9/10\n",
      "98765/98765 [==============================] - 4s 36us/step - loss: 0.0085 - val_loss: 0.0062\n",
      "Epoch 10/10\n",
      "98765/98765 [==============================] - 4s 41us/step - loss: 0.0073 - val_loss: 0.0176\n"
     ]
    }
   ],
   "source": [
    "# train\n",
    "checkpointer = ModelCheckpoint(filepath='/tmp/weights.hdf5', verbose=0, save_best_only=True)\n",
    "\n",
    "model.fit(X, sum_X, epochs=10, batch_size=128,\n",
    "        shuffle=True, validation_split=0.0123456789,\n",
    "        callbacks=[checkpointer])\n",
    "\n",
    "model = load_model('/tmp/weights.hdf5')\n",
    "\n",
    "# save weights\n",
    "deep_we = []\n",
    "for i in [1,2,4]:\n",
    "    w = model.get_layer(index=i).get_weights()\n",
    "    deep_we.append(w)"
   ]
  },
  {
   "cell_type": "markdown",
   "metadata": {},
   "source": [
    "# Train LSTM model"
   ]
  },
  {
   "cell_type": "code",
   "execution_count": 10,
   "metadata": {
    "scrolled": false
   },
   "outputs": [
    {
     "data": {
      "image/svg+xml": [
       "<svg height=\"308pt\" viewBox=\"0.00 0.00 328.00 308.00\" width=\"328pt\" xmlns=\"http://www.w3.org/2000/svg\" xmlns:xlink=\"http://www.w3.org/1999/xlink\">\n",
       "<g class=\"graph\" id=\"graph0\" transform=\"scale(1 1) rotate(0) translate(4 304)\">\n",
       "<title>G</title>\n",
       "<polygon fill=\"white\" points=\"-4,4 -4,-304 324,-304 324,4 -4,4\" stroke=\"none\"/>\n",
       "<!-- 140495930781256 -->\n",
       "<g class=\"node\" id=\"node1\"><title>140495930781256</title>\n",
       "<polygon fill=\"none\" points=\"32,-253 32,-299 288,-299 288,-253 32,-253\" stroke=\"black\"/>\n",
       "<text font-family=\"Times,serif\" font-size=\"14.00\" text-anchor=\"middle\" x=\"94.5\" y=\"-272.3\">input_2: InputLayer</text>\n",
       "<polyline fill=\"none\" points=\"157,-253 157,-299 \" stroke=\"black\"/>\n",
       "<text font-family=\"Times,serif\" font-size=\"14.00\" text-anchor=\"middle\" x=\"184.5\" y=\"-283.8\">input:</text>\n",
       "<polyline fill=\"none\" points=\"157,-276 212,-276 \" stroke=\"black\"/>\n",
       "<text font-family=\"Times,serif\" font-size=\"14.00\" text-anchor=\"middle\" x=\"184.5\" y=\"-260.8\">output:</text>\n",
       "<polyline fill=\"none\" points=\"212,-253 212,-299 \" stroke=\"black\"/>\n",
       "<text font-family=\"Times,serif\" font-size=\"14.00\" text-anchor=\"middle\" x=\"250\" y=\"-283.8\">(None, 10)</text>\n",
       "<polyline fill=\"none\" points=\"212,-276 288,-276 \" stroke=\"black\"/>\n",
       "<text font-family=\"Times,serif\" font-size=\"14.00\" text-anchor=\"middle\" x=\"250\" y=\"-260.8\">(None, 10)</text>\n",
       "</g>\n",
       "<!-- 140495930780360 -->\n",
       "<g class=\"node\" id=\"node2\"><title>140495930780360</title>\n",
       "<polygon fill=\"none\" points=\"0,-169 0,-215 320,-215 320,-169 0,-169\" stroke=\"black\"/>\n",
       "<text font-family=\"Times,serif\" font-size=\"14.00\" text-anchor=\"middle\" x=\"80.5\" y=\"-188.3\">embedding_2: Embedding</text>\n",
       "<polyline fill=\"none\" points=\"161,-169 161,-215 \" stroke=\"black\"/>\n",
       "<text font-family=\"Times,serif\" font-size=\"14.00\" text-anchor=\"middle\" x=\"188.5\" y=\"-199.8\">input:</text>\n",
       "<polyline fill=\"none\" points=\"161,-192 216,-192 \" stroke=\"black\"/>\n",
       "<text font-family=\"Times,serif\" font-size=\"14.00\" text-anchor=\"middle\" x=\"188.5\" y=\"-176.8\">output:</text>\n",
       "<polyline fill=\"none\" points=\"216,-169 216,-215 \" stroke=\"black\"/>\n",
       "<text font-family=\"Times,serif\" font-size=\"14.00\" text-anchor=\"middle\" x=\"268\" y=\"-199.8\">(None, 10)</text>\n",
       "<polyline fill=\"none\" points=\"216,-192 320,-192 \" stroke=\"black\"/>\n",
       "<text font-family=\"Times,serif\" font-size=\"14.00\" text-anchor=\"middle\" x=\"268\" y=\"-176.8\">(None, 10, 100)</text>\n",
       "</g>\n",
       "<!-- 140495930781256&#45;&gt;140495930780360 -->\n",
       "<g class=\"edge\" id=\"edge1\"><title>140495930781256-&gt;140495930780360</title>\n",
       "<path d=\"M160,-252.593C160,-244.118 160,-234.297 160,-225.104\" fill=\"none\" stroke=\"black\"/>\n",
       "<polygon fill=\"black\" points=\"163.5,-225.096 160,-215.096 156.5,-225.096 163.5,-225.096\" stroke=\"black\"/>\n",
       "</g>\n",
       "<!-- 140495930779744 -->\n",
       "<g class=\"node\" id=\"node3\"><title>140495930779744</title>\n",
       "<polygon fill=\"none\" points=\"31.5,-85 31.5,-131 288.5,-131 288.5,-85 31.5,-85\" stroke=\"black\"/>\n",
       "<text font-family=\"Times,serif\" font-size=\"14.00\" text-anchor=\"middle\" x=\"80.5\" y=\"-104.3\">lstm_1: LSTM</text>\n",
       "<polyline fill=\"none\" points=\"129.5,-85 129.5,-131 \" stroke=\"black\"/>\n",
       "<text font-family=\"Times,serif\" font-size=\"14.00\" text-anchor=\"middle\" x=\"157\" y=\"-115.8\">input:</text>\n",
       "<polyline fill=\"none\" points=\"129.5,-108 184.5,-108 \" stroke=\"black\"/>\n",
       "<text font-family=\"Times,serif\" font-size=\"14.00\" text-anchor=\"middle\" x=\"157\" y=\"-92.8\">output:</text>\n",
       "<polyline fill=\"none\" points=\"184.5,-85 184.5,-131 \" stroke=\"black\"/>\n",
       "<text font-family=\"Times,serif\" font-size=\"14.00\" text-anchor=\"middle\" x=\"236.5\" y=\"-115.8\">(None, 10, 100)</text>\n",
       "<polyline fill=\"none\" points=\"184.5,-108 288.5,-108 \" stroke=\"black\"/>\n",
       "<text font-family=\"Times,serif\" font-size=\"14.00\" text-anchor=\"middle\" x=\"236.5\" y=\"-92.8\">(None, 50)</text>\n",
       "</g>\n",
       "<!-- 140495930780360&#45;&gt;140495930779744 -->\n",
       "<g class=\"edge\" id=\"edge2\"><title>140495930780360-&gt;140495930779744</title>\n",
       "<path d=\"M160,-168.593C160,-160.118 160,-150.297 160,-141.104\" fill=\"none\" stroke=\"black\"/>\n",
       "<polygon fill=\"black\" points=\"163.5,-141.096 160,-131.096 156.5,-141.096 163.5,-141.096\" stroke=\"black\"/>\n",
       "</g>\n",
       "<!-- 140499949099328 -->\n",
       "<g class=\"node\" id=\"node4\"><title>140499949099328</title>\n",
       "<polygon fill=\"none\" points=\"43.5,-1 43.5,-47 276.5,-47 276.5,-1 43.5,-1\" stroke=\"black\"/>\n",
       "<text font-family=\"Times,serif\" font-size=\"14.00\" text-anchor=\"middle\" x=\"94.5\" y=\"-20.3\">dense_3: Dense</text>\n",
       "<polyline fill=\"none\" points=\"145.5,-1 145.5,-47 \" stroke=\"black\"/>\n",
       "<text font-family=\"Times,serif\" font-size=\"14.00\" text-anchor=\"middle\" x=\"173\" y=\"-31.8\">input:</text>\n",
       "<polyline fill=\"none\" points=\"145.5,-24 200.5,-24 \" stroke=\"black\"/>\n",
       "<text font-family=\"Times,serif\" font-size=\"14.00\" text-anchor=\"middle\" x=\"173\" y=\"-8.8\">output:</text>\n",
       "<polyline fill=\"none\" points=\"200.5,-1 200.5,-47 \" stroke=\"black\"/>\n",
       "<text font-family=\"Times,serif\" font-size=\"14.00\" text-anchor=\"middle\" x=\"238.5\" y=\"-31.8\">(None, 50)</text>\n",
       "<polyline fill=\"none\" points=\"200.5,-24 276.5,-24 \" stroke=\"black\"/>\n",
       "<text font-family=\"Times,serif\" font-size=\"14.00\" text-anchor=\"middle\" x=\"238.5\" y=\"-8.8\">(None, 1)</text>\n",
       "</g>\n",
       "<!-- 140495930779744&#45;&gt;140499949099328 -->\n",
       "<g class=\"edge\" id=\"edge3\"><title>140495930779744-&gt;140499949099328</title>\n",
       "<path d=\"M160,-84.5931C160,-76.1177 160,-66.2974 160,-57.104\" fill=\"none\" stroke=\"black\"/>\n",
       "<polygon fill=\"black\" points=\"163.5,-57.0958 160,-47.0959 156.5,-57.0959 163.5,-57.0958\" stroke=\"black\"/>\n",
       "</g>\n",
       "</g>\n",
       "</svg>"
      ],
      "text/plain": [
       "<IPython.core.display.SVG object>"
      ]
     },
     "execution_count": 10,
     "metadata": {},
     "output_type": "execute_result"
    }
   ],
   "source": [
    "# model\n",
    "model = get_lstm_model(max_train_length)\n",
    "\n",
    "# visualize\n",
    "SVG(model_to_dot(model, show_shapes=True).create(prog='dot', format='svg'))"
   ]
  },
  {
   "cell_type": "code",
   "execution_count": 11,
   "metadata": {},
   "outputs": [
    {
     "name": "stdout",
     "output_type": "stream",
     "text": [
      "Train on 98765 samples, validate on 1235 samples\n",
      "Epoch 1/50\n",
      "98765/98765 [==============================] - 40s 401us/step - loss: 18.3148 - val_loss: 13.8617\n",
      "Epoch 2/50\n",
      "98765/98765 [==============================] - 39s 392us/step - loss: 12.3287 - val_loss: 10.8388\n",
      "Epoch 3/50\n",
      "98765/98765 [==============================] - 37s 377us/step - loss: 9.5682 - val_loss: 8.3277\n",
      "Epoch 4/50\n",
      "98765/98765 [==============================] - 37s 372us/step - loss: 7.3940 - val_loss: 6.4521\n",
      "Epoch 5/50\n",
      "98765/98765 [==============================] - 36s 362us/step - loss: 5.6868 - val_loss: 4.9131\n",
      "Epoch 6/50\n",
      "98765/98765 [==============================] - 35s 358us/step - loss: 4.2821 - val_loss: 3.6533\n",
      "Epoch 7/50\n",
      "98765/98765 [==============================] - 35s 350us/step - loss: 3.1687 - val_loss: 2.6710\n",
      "Epoch 8/50\n",
      "98765/98765 [==============================] - 35s 357us/step - loss: 2.3078 - val_loss: 1.9381\n",
      "Epoch 9/50\n",
      "98765/98765 [==============================] - 36s 364us/step - loss: 1.6593 - val_loss: 1.3902\n",
      "Epoch 10/50\n",
      "98765/98765 [==============================] - 33s 332us/step - loss: 1.1827 - val_loss: 0.9972\n",
      "Epoch 11/50\n",
      "98765/98765 [==============================] - 33s 337us/step - loss: 0.8431 - val_loss: 0.7319\n",
      "Epoch 12/50\n",
      "98765/98765 [==============================] - 36s 364us/step - loss: 0.6078 - val_loss: 0.5322\n",
      "Epoch 13/50\n",
      "98765/98765 [==============================] - 36s 365us/step - loss: 0.4512 - val_loss: 0.4037\n",
      "Epoch 14/50\n",
      "98765/98765 [==============================] - 34s 346us/step - loss: 0.3474 - val_loss: 0.3268\n",
      "Epoch 15/50\n",
      "98765/98765 [==============================] - 34s 347us/step - loss: 0.2768 - val_loss: 0.2564\n",
      "Epoch 16/50\n",
      "98765/98765 [==============================] - 35s 355us/step - loss: 0.2270 - val_loss: 0.2144\n",
      "Epoch 17/50\n",
      "98765/98765 [==============================] - 34s 348us/step - loss: 0.1910 - val_loss: 0.1757\n",
      "Epoch 18/50\n",
      "98765/98765 [==============================] - 34s 343us/step - loss: 0.1640 - val_loss: 0.1535\n",
      "Epoch 19/50\n",
      "98765/98765 [==============================] - 35s 356us/step - loss: 0.1420 - val_loss: 0.1345\n",
      "Epoch 20/50\n",
      "98765/98765 [==============================] - 34s 347us/step - loss: 0.1270 - val_loss: 0.1159\n",
      "Epoch 21/50\n",
      "98765/98765 [==============================] - 35s 355us/step - loss: 0.1137 - val_loss: 0.1042\n",
      "Epoch 22/50\n",
      "98765/98765 [==============================] - 34s 348us/step - loss: 0.1028 - val_loss: 0.0967\n",
      "Epoch 23/50\n",
      "98765/98765 [==============================] - 35s 354us/step - loss: 0.0933 - val_loss: 0.0852\n",
      "Epoch 24/50\n",
      "98765/98765 [==============================] - 35s 357us/step - loss: 0.0869 - val_loss: 0.0829\n",
      "Epoch 25/50\n",
      "98765/98765 [==============================] - 34s 347us/step - loss: 0.0805 - val_loss: 0.0766\n",
      "Epoch 26/50\n",
      "98765/98765 [==============================] - 35s 357us/step - loss: 0.0755 - val_loss: 0.0709\n",
      "Epoch 27/50\n",
      "98765/98765 [==============================] - 35s 350us/step - loss: 0.0700 - val_loss: 0.0724\n",
      "Epoch 28/50\n",
      "98765/98765 [==============================] - 34s 341us/step - loss: 0.0661 - val_loss: 0.0582\n",
      "Epoch 29/50\n",
      "98765/98765 [==============================] - 34s 344us/step - loss: 0.0622 - val_loss: 0.0538\n",
      "Epoch 30/50\n",
      "98765/98765 [==============================] - 34s 349us/step - loss: 0.0620 - val_loss: 0.0518\n",
      "Epoch 31/50\n",
      "98765/98765 [==============================] - 33s 339us/step - loss: 0.0557 - val_loss: 0.0504\n",
      "Epoch 32/50\n",
      "98765/98765 [==============================] - 35s 349us/step - loss: 0.0549 - val_loss: 0.0450\n",
      "Epoch 33/50\n",
      "98765/98765 [==============================] - 35s 356us/step - loss: 0.0525 - val_loss: 0.0422\n",
      "Epoch 34/50\n",
      "98765/98765 [==============================] - 35s 355us/step - loss: 0.0489 - val_loss: 0.0402\n",
      "Epoch 35/50\n",
      "98765/98765 [==============================] - 35s 352us/step - loss: 0.0478 - val_loss: 0.0388\n",
      "Epoch 36/50\n",
      "98765/98765 [==============================] - 35s 352us/step - loss: 0.0477 - val_loss: 0.0689\n",
      "Epoch 37/50\n",
      "98765/98765 [==============================] - 35s 359us/step - loss: 0.0454 - val_loss: 0.0416\n",
      "Epoch 38/50\n",
      "98765/98765 [==============================] - 33s 339us/step - loss: 0.0416 - val_loss: 0.0450\n",
      "Epoch 39/50\n",
      "98765/98765 [==============================] - 36s 363us/step - loss: 0.0414 - val_loss: 0.0317\n",
      "Epoch 40/50\n",
      "98765/98765 [==============================] - 35s 355us/step - loss: 0.0407 - val_loss: 0.0300\n",
      "Epoch 41/50\n",
      "98765/98765 [==============================] - 34s 348us/step - loss: 0.0386 - val_loss: 0.0304\n",
      "Epoch 42/50\n",
      "98765/98765 [==============================] - 34s 348us/step - loss: 0.0400 - val_loss: 0.0520\n",
      "Epoch 43/50\n",
      "98765/98765 [==============================] - 34s 349us/step - loss: 0.0368 - val_loss: 0.0321\n",
      "Epoch 44/50\n",
      "98765/98765 [==============================] - 35s 352us/step - loss: 0.0371 - val_loss: 0.0386\n",
      "Epoch 45/50\n",
      "98765/98765 [==============================] - 34s 348us/step - loss: 0.0353 - val_loss: 0.0337\n",
      "Epoch 46/50\n",
      "98765/98765 [==============================] - 36s 362us/step - loss: 0.0348 - val_loss: 0.0352\n",
      "Epoch 47/50\n",
      "98765/98765 [==============================] - 34s 348us/step - loss: 0.0341 - val_loss: 0.0234\n",
      "Epoch 48/50\n",
      "98765/98765 [==============================] - 35s 352us/step - loss: 0.0332 - val_loss: 0.0282\n",
      "Epoch 49/50\n",
      "98765/98765 [==============================] - 35s 350us/step - loss: 0.0319 - val_loss: 0.0367\n",
      "Epoch 50/50\n",
      "98765/98765 [==============================] - 35s 353us/step - loss: 0.0314 - val_loss: 0.0285\n"
     ]
    }
   ],
   "source": [
    "# train\n",
    "checkpointer = ModelCheckpoint(filepath='/tmp/weights1.hdf5', verbose=0, save_best_only=True)\n",
    "\n",
    "model.fit(X, sum_X, epochs=50, batch_size=128,\n",
    "        shuffle=True, validation_split=0.0123456789,\n",
    "        callbacks=[checkpointer])\n",
    "\n",
    "model = load_model('/tmp/weights1.hdf5')\n",
    "\n",
    "# save weights\n",
    "lstm_we = []\n",
    "for i in [1,2,3]:\n",
    "    w = model.get_layer(index=i).get_weights()\n",
    "    lstm_we.append(w)"
   ]
  },
  {
   "cell_type": "markdown",
   "metadata": {},
   "source": [
    "# Train GRU model"
   ]
  },
  {
   "cell_type": "code",
   "execution_count": 12,
   "metadata": {
    "scrolled": false
   },
   "outputs": [
    {
     "data": {
      "image/svg+xml": [
       "<svg height=\"308pt\" viewBox=\"0.00 0.00 328.00 308.00\" width=\"328pt\" xmlns=\"http://www.w3.org/2000/svg\" xmlns:xlink=\"http://www.w3.org/1999/xlink\">\n",
       "<g class=\"graph\" id=\"graph0\" transform=\"scale(1 1) rotate(0) translate(4 304)\">\n",
       "<title>G</title>\n",
       "<polygon fill=\"white\" points=\"-4,4 -4,-304 324,-304 324,4 -4,4\" stroke=\"none\"/>\n",
       "<!-- 140495922173320 -->\n",
       "<g class=\"node\" id=\"node1\"><title>140495922173320</title>\n",
       "<polygon fill=\"none\" points=\"32,-253 32,-299 288,-299 288,-253 32,-253\" stroke=\"black\"/>\n",
       "<text font-family=\"Times,serif\" font-size=\"14.00\" text-anchor=\"middle\" x=\"94.5\" y=\"-272.3\">input_3: InputLayer</text>\n",
       "<polyline fill=\"none\" points=\"157,-253 157,-299 \" stroke=\"black\"/>\n",
       "<text font-family=\"Times,serif\" font-size=\"14.00\" text-anchor=\"middle\" x=\"184.5\" y=\"-283.8\">input:</text>\n",
       "<polyline fill=\"none\" points=\"157,-276 212,-276 \" stroke=\"black\"/>\n",
       "<text font-family=\"Times,serif\" font-size=\"14.00\" text-anchor=\"middle\" x=\"184.5\" y=\"-260.8\">output:</text>\n",
       "<polyline fill=\"none\" points=\"212,-253 212,-299 \" stroke=\"black\"/>\n",
       "<text font-family=\"Times,serif\" font-size=\"14.00\" text-anchor=\"middle\" x=\"250\" y=\"-283.8\">(None, 10)</text>\n",
       "<polyline fill=\"none\" points=\"212,-276 288,-276 \" stroke=\"black\"/>\n",
       "<text font-family=\"Times,serif\" font-size=\"14.00\" text-anchor=\"middle\" x=\"250\" y=\"-260.8\">(None, 10)</text>\n",
       "</g>\n",
       "<!-- 140495922174104 -->\n",
       "<g class=\"node\" id=\"node2\"><title>140495922174104</title>\n",
       "<polygon fill=\"none\" points=\"0,-169 0,-215 320,-215 320,-169 0,-169\" stroke=\"black\"/>\n",
       "<text font-family=\"Times,serif\" font-size=\"14.00\" text-anchor=\"middle\" x=\"80.5\" y=\"-188.3\">embedding_3: Embedding</text>\n",
       "<polyline fill=\"none\" points=\"161,-169 161,-215 \" stroke=\"black\"/>\n",
       "<text font-family=\"Times,serif\" font-size=\"14.00\" text-anchor=\"middle\" x=\"188.5\" y=\"-199.8\">input:</text>\n",
       "<polyline fill=\"none\" points=\"161,-192 216,-192 \" stroke=\"black\"/>\n",
       "<text font-family=\"Times,serif\" font-size=\"14.00\" text-anchor=\"middle\" x=\"188.5\" y=\"-176.8\">output:</text>\n",
       "<polyline fill=\"none\" points=\"216,-169 216,-215 \" stroke=\"black\"/>\n",
       "<text font-family=\"Times,serif\" font-size=\"14.00\" text-anchor=\"middle\" x=\"268\" y=\"-199.8\">(None, 10)</text>\n",
       "<polyline fill=\"none\" points=\"216,-192 320,-192 \" stroke=\"black\"/>\n",
       "<text font-family=\"Times,serif\" font-size=\"14.00\" text-anchor=\"middle\" x=\"268\" y=\"-176.8\">(None, 10, 100)</text>\n",
       "</g>\n",
       "<!-- 140495922173320&#45;&gt;140495922174104 -->\n",
       "<g class=\"edge\" id=\"edge1\"><title>140495922173320-&gt;140495922174104</title>\n",
       "<path d=\"M160,-252.593C160,-244.118 160,-234.297 160,-225.104\" fill=\"none\" stroke=\"black\"/>\n",
       "<polygon fill=\"black\" points=\"163.5,-225.096 160,-215.096 156.5,-225.096 163.5,-225.096\" stroke=\"black\"/>\n",
       "</g>\n",
       "<!-- 140495901878536 -->\n",
       "<g class=\"node\" id=\"node3\"><title>140495901878536</title>\n",
       "<polygon fill=\"none\" points=\"38.5,-85 38.5,-131 281.5,-131 281.5,-85 38.5,-85\" stroke=\"black\"/>\n",
       "<text font-family=\"Times,serif\" font-size=\"14.00\" text-anchor=\"middle\" x=\"80.5\" y=\"-104.3\">gru_1: GRU</text>\n",
       "<polyline fill=\"none\" points=\"122.5,-85 122.5,-131 \" stroke=\"black\"/>\n",
       "<text font-family=\"Times,serif\" font-size=\"14.00\" text-anchor=\"middle\" x=\"150\" y=\"-115.8\">input:</text>\n",
       "<polyline fill=\"none\" points=\"122.5,-108 177.5,-108 \" stroke=\"black\"/>\n",
       "<text font-family=\"Times,serif\" font-size=\"14.00\" text-anchor=\"middle\" x=\"150\" y=\"-92.8\">output:</text>\n",
       "<polyline fill=\"none\" points=\"177.5,-85 177.5,-131 \" stroke=\"black\"/>\n",
       "<text font-family=\"Times,serif\" font-size=\"14.00\" text-anchor=\"middle\" x=\"229.5\" y=\"-115.8\">(None, 10, 100)</text>\n",
       "<polyline fill=\"none\" points=\"177.5,-108 281.5,-108 \" stroke=\"black\"/>\n",
       "<text font-family=\"Times,serif\" font-size=\"14.00\" text-anchor=\"middle\" x=\"229.5\" y=\"-92.8\">(None, 80)</text>\n",
       "</g>\n",
       "<!-- 140495922174104&#45;&gt;140495901878536 -->\n",
       "<g class=\"edge\" id=\"edge2\"><title>140495922174104-&gt;140495901878536</title>\n",
       "<path d=\"M160,-168.593C160,-160.118 160,-150.297 160,-141.104\" fill=\"none\" stroke=\"black\"/>\n",
       "<polygon fill=\"black\" points=\"163.5,-141.096 160,-131.096 156.5,-141.096 163.5,-141.096\" stroke=\"black\"/>\n",
       "</g>\n",
       "<!-- 140495922522376 -->\n",
       "<g class=\"node\" id=\"node4\"><title>140495922522376</title>\n",
       "<polygon fill=\"none\" points=\"43.5,-1 43.5,-47 276.5,-47 276.5,-1 43.5,-1\" stroke=\"black\"/>\n",
       "<text font-family=\"Times,serif\" font-size=\"14.00\" text-anchor=\"middle\" x=\"94.5\" y=\"-20.3\">dense_4: Dense</text>\n",
       "<polyline fill=\"none\" points=\"145.5,-1 145.5,-47 \" stroke=\"black\"/>\n",
       "<text font-family=\"Times,serif\" font-size=\"14.00\" text-anchor=\"middle\" x=\"173\" y=\"-31.8\">input:</text>\n",
       "<polyline fill=\"none\" points=\"145.5,-24 200.5,-24 \" stroke=\"black\"/>\n",
       "<text font-family=\"Times,serif\" font-size=\"14.00\" text-anchor=\"middle\" x=\"173\" y=\"-8.8\">output:</text>\n",
       "<polyline fill=\"none\" points=\"200.5,-1 200.5,-47 \" stroke=\"black\"/>\n",
       "<text font-family=\"Times,serif\" font-size=\"14.00\" text-anchor=\"middle\" x=\"238.5\" y=\"-31.8\">(None, 80)</text>\n",
       "<polyline fill=\"none\" points=\"200.5,-24 276.5,-24 \" stroke=\"black\"/>\n",
       "<text font-family=\"Times,serif\" font-size=\"14.00\" text-anchor=\"middle\" x=\"238.5\" y=\"-8.8\">(None, 1)</text>\n",
       "</g>\n",
       "<!-- 140495901878536&#45;&gt;140495922522376 -->\n",
       "<g class=\"edge\" id=\"edge3\"><title>140495901878536-&gt;140495922522376</title>\n",
       "<path d=\"M160,-84.5931C160,-76.1177 160,-66.2974 160,-57.104\" fill=\"none\" stroke=\"black\"/>\n",
       "<polygon fill=\"black\" points=\"163.5,-57.0958 160,-47.0959 156.5,-57.0959 163.5,-57.0958\" stroke=\"black\"/>\n",
       "</g>\n",
       "</g>\n",
       "</svg>"
      ],
      "text/plain": [
       "<IPython.core.display.SVG object>"
      ]
     },
     "execution_count": 12,
     "metadata": {},
     "output_type": "execute_result"
    }
   ],
   "source": [
    "# model\n",
    "model = get_gru_model(max_train_length)\n",
    "\n",
    "# visualize\n",
    "SVG(model_to_dot(model, show_shapes=True).create(prog='dot', format='svg'))"
   ]
  },
  {
   "cell_type": "code",
   "execution_count": 13,
   "metadata": {},
   "outputs": [
    {
     "name": "stdout",
     "output_type": "stream",
     "text": [
      "Train on 98765 samples, validate on 1235 samples\n",
      "Epoch 1/50\n",
      "98765/98765 [==============================] - 31s 315us/step - loss: 15.2006 - val_loss: 10.3394\n",
      "Epoch 2/50\n",
      "98765/98765 [==============================] - 32s 324us/step - loss: 8.5054 - val_loss: 6.9047\n",
      "Epoch 3/50\n",
      "98765/98765 [==============================] - 31s 316us/step - loss: 5.6387 - val_loss: 4.3940\n",
      "Epoch 4/50\n",
      "98765/98765 [==============================] - 31s 317us/step - loss: 3.5458 - val_loss: 2.7446\n",
      "Epoch 5/50\n",
      "98765/98765 [==============================] - 32s 321us/step - loss: 2.2071 - val_loss: 1.7123\n",
      "Epoch 6/50\n",
      "98765/98765 [==============================] - 31s 311us/step - loss: 0.8277 - val_loss: 0.6644\n",
      "Epoch 8/50\n",
      "98765/98765 [==============================] - 30s 301us/step - loss: 0.5422 - val_loss: 0.4525\n",
      "Epoch 9/50\n",
      "98765/98765 [==============================] - 31s 314us/step - loss: 0.3774 - val_loss: 0.3222\n",
      "Epoch 10/50\n",
      "98765/98765 [==============================] - 31s 310us/step - loss: 0.2798 - val_loss: 0.2414\n",
      "Epoch 11/50\n",
      "98765/98765 [==============================] - 32s 321us/step - loss: 0.2189 - val_loss: 0.1923\n",
      "Epoch 12/50\n",
      "98765/98765 [==============================] - 33s 336us/step - loss: 0.1763 - val_loss: 0.1508\n",
      "Epoch 13/50\n",
      "98765/98765 [==============================] - 32s 324us/step - loss: 0.1487 - val_loss: 0.1385\n",
      "Epoch 14/50\n",
      "98765/98765 [==============================] - 31s 314us/step - loss: 0.1271 - val_loss: 0.1085\n",
      "Epoch 15/50\n",
      "98765/98765 [==============================] - 31s 317us/step - loss: 0.1118 - val_loss: 0.0913\n",
      "Epoch 16/50\n",
      "98765/98765 [==============================] - 32s 328us/step - loss: 0.1022 - val_loss: 0.0822\n",
      "Epoch 17/50\n",
      "98765/98765 [==============================] - 32s 329us/step - loss: 0.0941 - val_loss: 0.0741\n",
      "Epoch 18/50\n",
      "98765/98765 [==============================] - 31s 316us/step - loss: 0.0848 - val_loss: 0.0664\n",
      "Epoch 19/50\n",
      "98765/98765 [==============================] - 32s 321us/step - loss: 0.0830 - val_loss: 0.0839\n",
      "Epoch 20/50\n",
      "98765/98765 [==============================] - 31s 310us/step - loss: 0.0740 - val_loss: 0.0795\n",
      "Epoch 21/50\n",
      "98765/98765 [==============================] - 31s 312us/step - loss: 0.0744 - val_loss: 0.0650\n",
      "Epoch 22/50\n",
      "98765/98765 [==============================] - 31s 314us/step - loss: 0.0671 - val_loss: 0.0533\n",
      "Epoch 23/50\n",
      "98765/98765 [==============================] - 30s 305us/step - loss: 0.0620 - val_loss: 0.0476\n",
      "Epoch 24/50\n",
      "98765/98765 [==============================] - 31s 313us/step - loss: 0.0672 - val_loss: 0.0476\n",
      "Epoch 25/50\n",
      "98765/98765 [==============================] - 31s 314us/step - loss: 0.0616 - val_loss: 0.0504\n",
      "Epoch 26/50\n",
      "98765/98765 [==============================] - 30s 301us/step - loss: 0.0576 - val_loss: 0.0706\n",
      "Epoch 27/50\n",
      "98765/98765 [==============================] - 32s 321us/step - loss: 0.0580 - val_loss: 0.0591\n",
      "Epoch 28/50\n",
      "98765/98765 [==============================] - 31s 311us/step - loss: 0.0574 - val_loss: 0.0387\n",
      "Epoch 29/50\n",
      "98765/98765 [==============================] - 31s 312us/step - loss: 0.0570 - val_loss: 0.0441\n",
      "Epoch 30/50\n",
      "98765/98765 [==============================] - 31s 310us/step - loss: 0.0506 - val_loss: 0.0334\n",
      "Epoch 31/50\n",
      "98765/98765 [==============================] - 31s 310us/step - loss: 0.0431 - val_loss: 0.0604\n",
      "Epoch 32/50\n",
      "98765/98765 [==============================] - 32s 321us/step - loss: 0.0530 - val_loss: 0.0714\n",
      "Epoch 33/50\n",
      "98765/98765 [==============================] - 29s 298us/step - loss: 0.0480 - val_loss: 0.0379\n",
      "Epoch 34/50\n",
      "98765/98765 [==============================] - 30s 307us/step - loss: 0.0490 - val_loss: 0.0319\n",
      "Epoch 35/50\n",
      "98765/98765 [==============================] - 31s 316us/step - loss: 0.0488 - val_loss: 0.0406\n",
      "Epoch 36/50\n",
      "98765/98765 [==============================] - 31s 316us/step - loss: 0.0478 - val_loss: 0.0252\n",
      "Epoch 37/50\n",
      "98765/98765 [==============================] - 31s 316us/step - loss: 0.0463 - val_loss: 0.0303\n",
      "Epoch 38/50\n",
      "98765/98765 [==============================] - 30s 299us/step - loss: 0.0462 - val_loss: 0.0265\n",
      "Epoch 39/50\n",
      "98765/98765 [==============================] - 30s 303us/step - loss: 0.0419 - val_loss: 0.0271\n",
      "Epoch 40/50\n",
      "98765/98765 [==============================] - 32s 324us/step - loss: 0.0436 - val_loss: 0.0530\n",
      "Epoch 41/50\n",
      "98765/98765 [==============================] - 31s 317us/step - loss: 0.0440 - val_loss: 0.0844\n",
      "Epoch 42/50\n",
      "98765/98765 [==============================] - 31s 315us/step - loss: 0.0419 - val_loss: 0.0381\n",
      "Epoch 43/50\n",
      "98765/98765 [==============================] - 31s 317us/step - loss: 0.0449 - val_loss: 0.0248\n",
      "Epoch 44/50\n",
      "98765/98765 [==============================] - 31s 312us/step - loss: 0.0447 - val_loss: 0.0460\n",
      "Epoch 45/50\n",
      "98765/98765 [==============================] - 30s 306us/step - loss: 0.0423 - val_loss: 0.0425\n",
      "Epoch 46/50\n",
      "98765/98765 [==============================] - 31s 312us/step - loss: 0.0427 - val_loss: 0.0313\n",
      "Epoch 47/50\n",
      "98765/98765 [==============================] - 30s 307us/step - loss: 0.0456 - val_loss: 0.0368\n",
      "Epoch 48/50\n",
      "98765/98765 [==============================] - 31s 313us/step - loss: 0.0412 - val_loss: 0.0263\n",
      "Epoch 49/50\n",
      "98765/98765 [==============================] - 30s 305us/step - loss: 0.0401 - val_loss: 0.0507\n",
      "Epoch 50/50\n",
      "98765/98765 [==============================] - 30s 307us/step - loss: 0.0470 - val_loss: 0.0196\n"
     ]
    }
   ],
   "source": [
    "# train\n",
    "checkpointer = ModelCheckpoint(filepath='/tmp/weights2.hdf5', verbose=0, save_best_only=True)\n",
    "\n",
    "model.fit(X, sum_X, epochs=50, batch_size=128,\n",
    "        shuffle=True, validation_split=0.0123456789,\n",
    "        callbacks=[checkpointer])\n",
    "\n",
    "model = load_model('/tmp/weights2.hdf5')\n",
    "\n",
    "# save weights\n",
    "gru_we = []\n",
    "for i in [1,2,3]:\n",
    "    w = model.get_layer(index=i).get_weights()\n",
    "    gru_we.append(w)"
   ]
  },
  {
   "cell_type": "markdown",
   "metadata": {},
   "source": [
    "# Evaluate models"
   ]
  },
  {
   "cell_type": "code",
   "execution_count": 14,
   "metadata": {
    "scrolled": false
   },
   "outputs": [
    {
     "name": "stdout",
     "output_type": "stream",
     "text": [
      "Evaluating at length:  5\n",
      "10000/10000 [==============================] - 0s 10us/step\n",
      "10000/10000 [==============================] - 1s 59us/step\n",
      "10000/10000 [==============================] - 0s 43us/step\n",
      "Evaluating at length:  10\n",
      "10000/10000 [==============================] - 0s 8us/step\n",
      "10000/10000 [==============================] - 1s 85us/step\n",
      "10000/10000 [==============================] - 1s 70us/step\n",
      "Evaluating at length:  15\n",
      "10000/10000 [==============================] - 0s 9us/step\n",
      "10000/10000 [==============================] - 1s 110us/step\n",
      "10000/10000 [==============================] - 1s 92us/step\n",
      "Evaluating at length:  20\n",
      "10000/10000 [==============================] - 0s 9us/step\n",
      "10000/10000 [==============================] - 2s 159us/step\n",
      "10000/10000 [==============================] - 1s 137us/step\n",
      "Evaluating at length:  25\n",
      "10000/10000 [==============================] - 0s 10us/step\n",
      "10000/10000 [==============================] - 2s 192us/step\n",
      "10000/10000 [==============================] - 2s 160us/step\n",
      "Evaluating at length:  30\n",
      "10000/10000 [==============================] - 0s 9us/step\n",
      "10000/10000 [==============================] - 2s 209us/step\n",
      "10000/10000 [==============================] - 2s 191us/step\n",
      "Evaluating at length:  35\n",
      "10000/10000 [==============================] - 0s 10us/step\n",
      "10000/10000 [==============================] - 3s 274us/step\n",
      "10000/10000 [==============================] - 2s 211us/step\n",
      "Evaluating at length:  40\n",
      "10000/10000 [==============================] - 0s 11us/step\n",
      "10000/10000 [==============================] - 3s 283us/step\n",
      "10000/10000 [==============================] - 2s 241us/step\n",
      "Evaluating at length:  45\n",
      "10000/10000 [==============================] - 0s 11us/step\n",
      "10000/10000 [==============================] - 3s 350us/step\n",
      "10000/10000 [==============================] - 3s 283us/step\n",
      "Evaluating at length:  50\n",
      "10000/10000 [==============================] - 0s 10us/step\n",
      "10000/10000 [==============================] - 4s 395us/step\n",
      "10000/10000 [==============================] - 4s 361us/step\n",
      "Evaluating at length:  55\n",
      "10000/10000 [==============================] - 0s 11us/step\n",
      "10000/10000 [==============================] - 5s 462us/step\n",
      "10000/10000 [==============================] - 4s 394us/step\n",
      "Evaluating at length:  60\n",
      "10000/10000 [==============================] - 0s 10us/step\n",
      "10000/10000 [==============================] - 5s 462us/step\n",
      "10000/10000 [==============================] - 4s 428us/step\n",
      "Evaluating at length:  65\n",
      "10000/10000 [==============================] - 0s 11us/step\n",
      "10000/10000 [==============================] - 5s 519us/step\n",
      "10000/10000 [==============================] - 4s 445us/step\n",
      "Evaluating at length:  70\n",
      "10000/10000 [==============================] - 0s 10us/step\n",
      "10000/10000 [==============================] - 6s 579us/step\n",
      "10000/10000 [==============================] - 4s 447us/step\n",
      "Evaluating at length:  75\n",
      "10000/10000 [==============================] - 0s 9us/step\n",
      "10000/10000 [==============================] - 6s 624us/step\n",
      "10000/10000 [==============================] - 5s 547us/step\n",
      "Evaluating at length:  80\n",
      "10000/10000 [==============================] - 0s 9us/step\n",
      "10000/10000 [==============================] - 6s 604us/step\n",
      "10000/10000 [==============================] - 5s 512us/step\n",
      "Evaluating at length:  85\n",
      "10000/10000 [==============================] - 0s 11us/step\n",
      "10000/10000 [==============================] - 7s 664us/step\n",
      "10000/10000 [==============================] - 6s 626us/step\n",
      "Evaluating at length:  90\n",
      "10000/10000 [==============================] - 0s 12us/step\n",
      "10000/10000 [==============================] - 7s 665us/step\n",
      "10000/10000 [==============================] - 6s 632us/step\n",
      "Evaluating at length:  95\n",
      "10000/10000 [==============================] - 0s 10us/step\n",
      "10000/10000 [==============================] - 7s 741us/step\n",
      "10000/10000 [==============================] - 7s 708us/step\n"
     ]
    }
   ],
   "source": [
    "metrics = {'deepsets': {'acc':[], 'mae':[], 'mse':[]}, 'lstm': {'acc':[], 'mae':[], 'mse':[]}, 'gru': {'acc':[], 'mae':[], 'mse':[]}}\n",
    "\n",
    "lengths = range(min_test_length, max_test_length, step_test_length)\n",
    "for l in lengths:\n",
    "    print('Evaluating at length: ', l)\n",
    "    K.clear_session()\n",
    "    \n",
    "    # generate test data\n",
    "    Y, sum_Y = gen_test_data(num_test_examples, l)\n",
    "\n",
    "    # model\n",
    "    model = get_deepset_model(l)\n",
    "\n",
    "    # load weights\n",
    "    for i, idx in enumerate([1,2,4]):\n",
    "        model.get_layer(index=idx).set_weights(deep_we[i])\n",
    "\n",
    "    # prediction\n",
    "    preds = model.predict(Y, batch_size=128, verbose=1)\n",
    "    metrics['deepsets']['acc'].append(1.0*np.sum(np.squeeze(np.round(preds))==sum_Y)/len(sum_Y))\n",
    "    metrics['deepsets']['mae'].append(np.sum(np.abs(np.squeeze(preds)-sum_Y))/len(sum_Y))\n",
    "    metrics['deepsets']['mse'].append(np.dot(np.squeeze(preds)-sum_Y, np.squeeze(preds)-sum_Y)/len(sum_Y))\n",
    "    \n",
    "    # model\n",
    "    model = get_lstm_model(l)\n",
    "\n",
    "    # load weights\n",
    "    for i, idx in enumerate([1,2,3]):\n",
    "        model.get_layer(index=idx).set_weights(lstm_we[i])\n",
    "\n",
    "    # prediction\n",
    "    preds = model.predict(Y, batch_size=128, verbose=1)\n",
    "    metrics['lstm']['acc'].append(1.0*np.sum(np.squeeze(np.round(preds))==sum_Y)/len(sum_Y))\n",
    "    metrics['lstm']['mae'].append(np.sum(np.abs(np.squeeze(preds)-sum_Y))/len(sum_Y))\n",
    "    metrics['lstm']['mse'].append(np.dot(np.squeeze(preds)-sum_Y, np.squeeze(preds)-sum_Y)/len(sum_Y))\n",
    "    \n",
    "    # model\n",
    "    model = get_gru_model(l)\n",
    "\n",
    "    # load weights\n",
    "    for i, idx in enumerate([1,2,3]):\n",
    "        model.get_layer(index=idx).set_weights(gru_we[i])\n",
    "\n",
    "    # prediction\n",
    "    preds = model.predict(Y, batch_size=128, verbose=1)\n",
    "    metrics['gru']['acc'].append(1.0*np.sum(np.squeeze(np.round(preds))==sum_Y)/len(sum_Y))\n",
    "    metrics['gru']['mae'].append(np.sum(np.abs(np.squeeze(preds)-sum_Y))/len(sum_Y))\n",
    "    metrics['gru']['mse'].append(np.dot(np.squeeze(preds)-sum_Y, np.squeeze(preds)-sum_Y)/len(sum_Y))"
   ]
  },
  {
   "cell_type": "markdown",
   "metadata": {},
   "source": [
    "Compare the performance"
   ]
  },
  {
   "cell_type": "code",
   "execution_count": 15,
   "metadata": {},
   "outputs": [
    {
     "data": {
      "image/png": "[encoded data removed]",
      "text/plain": [
       "<matplotlib.figure.Figure at 0x7fc59413d9b0>"
      ]
     },
     "metadata": {},
     "output_type": "display_data"
    }
   ],
   "source": [
    "font = {'size': 14}\n",
    "matplotlib.rc('font', **font)\n",
    "\n",
    "scale = 0.5\n",
    "plt.figure(figsize=(10*scale, 8*scale))\n",
    "\n",
    "plt.plot(lengths, metrics['deepsets']['acc'], 'o-')\n",
    "plt.plot(lengths, metrics['lstm']['acc'], 'o-')\n",
    "plt.plot(lengths, metrics['gru']['acc'], 'o-')\n",
    "plt.xlabel('Number of digits to add')\n",
    "plt.ylabel('Accuracy')\n",
    "plt.title('Accuracy')\n",
    "plt.ylim( 0, 1.1 )\n",
    "plt.xlim( 5, 95 )\n",
    "plt.legend(['Deepsets', 'LSTM', 'GRU'], fontsize=14)\n",
    "plt.tight_layout()\n",
    "plt.show()"
   ]
  },
  {
   "cell_type": "code",
   "execution_count": 16,
   "metadata": {},
   "outputs": [
    {
     "data": {
      "image/png": "[encoded data removed]",
      "text/plain": [
       "<matplotlib.figure.Figure at 0x7fc55c2856d8>"
      ]
     },
     "metadata": {},
     "output_type": "display_data"
    }
   ],
   "source": [
    "font = {'size': 14}\n",
    "matplotlib.rc('font', **font)\n",
    "\n",
    "scale = 0.5\n",
    "plt.figure(figsize=(10*scale, 8*scale))\n",
    "\n",
    "plt.plot(lengths, np.array(metrics['deepsets']['mae'])/1e2, 'x-')\n",
    "plt.plot(lengths, np.array(metrics['lstm']['mae'])/1e2, 'x-')\n",
    "plt.plot(lengths, np.array(metrics['gru']['mae'])/1e2, 'x-')\n",
    "plt.xlabel('Number of digits to add')\n",
    "plt.ylabel('Mean absolute error/1e2')\n",
    "plt.title('MAE')\n",
    "plt.legend(['Deepsets', 'LSTM', 'GRU'], fontsize=14)\n",
    "plt.tight_layout()\n",
    "plt.show()"
   ]
  },
  {
   "cell_type": "code",
   "execution_count": 17,
   "metadata": {},
   "outputs": [
    {
     "data": {
      "image/png": "[encoded data removed]",
      "text/plain": [
       "<matplotlib.figure.Figure at 0x7fc594054ac8>"
      ]
     },
     "metadata": {},
     "output_type": "display_data"
    }
   ],
   "source": [
    "font = {'size': 14}\n",
    "matplotlib.rc('font', **font)\n",
    "\n",
    "scale = 0.5\n",
    "plt.figure(figsize=(10*scale, 8*scale))\n",
    "\n",
    "plt.plot(lengths, np.array(metrics['deepsets']['mse'])/1e5, 'x-')\n",
    "plt.plot(lengths, np.array(metrics['lstm']['mse'])/1e5, 'x-')\n",
    "plt.plot(lengths, np.array(metrics['gru']['mse'])/1e5, 'x-')\n",
    "plt.xlabel('Number of digits to add')\n",
    "plt.ylabel('Mean square error/1e5')\n",
    "plt.title('MSE')\n",
    "plt.legend(['Deepsets', 'LSTM', 'GRU'], fontsize=14)\n",
    "plt.tight_layout()\n",
    "plt.show()"
   ]
  },
  {
   "cell_type": "code",
   "execution_count": null,
   "metadata": {},
   "outputs": [],
   "source": []
  }
 ],
 "metadata": {
  "kernelspec": {
   "display_name": "Python 3",
   "language": "python",
   "name": "python3"
  },
  "language_info": {
   "codemirror_mode": {
    "name": "ipython",
    "version": 3
   },
   "file_extension": ".py",
   "mimetype": "text/x-python",
   "name": "python",
   "nbconvert_exporter": "python",
   "pygments_lexer": "ipython3",
   "version": "3.5.2"
  }
 },
 "nbformat": 4,
 "nbformat_minor": 2
}
