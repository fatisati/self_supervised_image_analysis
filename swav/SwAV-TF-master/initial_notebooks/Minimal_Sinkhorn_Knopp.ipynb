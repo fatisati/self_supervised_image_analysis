{
 "cells": [
  {
   "cell_type": "markdown",
   "metadata": {
    "colab_type": "text",
    "id": "QBzz6gdsYD4x"
   },
   "source": [
    "## References:\n",
    "- https://michielstock.github.io/OptimalTransport/\n",
    "- Appendix A.1 of the [original paper](https://arxiv.org/pdf/2006.09882.pdf)"
   ]
  },
  {
   "cell_type": "code",
   "execution_count": 1,
   "metadata": {
    "colab": {},
    "colab_type": "code",
    "id": "lIYdn1woOS1n"
   },
   "outputs": [],
   "source": [
    "import numpy as np\n",
    "import tensorflow as tf"
   ]
  },
  {
   "cell_type": "code",
   "execution_count": 12,
   "metadata": {
    "colab": {
     "base_uri": "https://localhost:8080/",
     "height": 34
    },
    "colab_type": "code",
    "id": "uQOds4ONXb00",
    "outputId": "a7f9c1d7-dec2-4111-b8ac-00ca7cb8e9d7"
   },
   "outputs": [
    {
     "data": {
      "text/plain": [
       "[32, 3000]"
      ]
     },
     "execution_count": 12,
     "metadata": {
      "tags": []
     },
     "output_type": "execute_result"
    }
   ],
   "source": [
    "sample_prototype_batch = tf.random.uniform((32, 3000), dtype=tf.float32)\n",
    "sample_prototype_batch.shape.as_list()"
   ]
  },
  {
   "cell_type": "code",
   "execution_count": 13,
   "metadata": {
    "colab": {},
    "colab_type": "code",
    "id": "ZDfiIqafaESY"
   },
   "outputs": [],
   "source": [
    "Q = tf.transpose(tf.exp(sample_prototype_batch/0.05))\n",
    "Q /= tf.keras.backend.sum(Q)\n",
    "K, B = Q.shape\n",
    "\n",
    "u = tf.zeros_like(K, dtype=tf.float32)\n",
    "r = tf.ones_like(K, dtype=tf.float32) / K\n",
    "c = tf.ones_like(B, dtype=tf.float32) / B\n",
    "\n",
    "for _ in range(3):\n",
    "    u = tf.keras.backend.sum(Q, axis=1)\n",
    "    Q *= tf.expand_dims((r / u), axis=1)\n",
    "    Q *= tf.expand_dims(c / tf.keras.backend.sum(Q, axis=0), 0)\n",
    "\n",
    "final_quantity = Q / tf.keras.backend.sum(Q, axis=0, keepdims=True)\n",
    "final_quantity = tf.transpose(final_quantity)"
   ]
  },
  {
   "cell_type": "code",
   "execution_count": 14,
   "metadata": {
    "colab": {
     "base_uri": "https://localhost:8080/",
     "height": 34
    },
    "colab_type": "code",
    "id": "zibTyTSVYXy2",
    "outputId": "dd67ed43-ef67-4407-9940-3c5f16d365ff"
   },
   "outputs": [
    {
     "data": {
      "text/plain": [
       "TensorShape([32, 3000])"
      ]
     },
     "execution_count": 14,
     "metadata": {
      "tags": []
     },
     "output_type": "execute_result"
    }
   ],
   "source": [
    "final_quantity.shape"
   ]
  }
 ],
 "metadata": {
  "colab": {
   "include_colab_link": true,
   "name": "scratchpad",
   "provenance": []
  },
  "kernelspec": {
   "display_name": "Python 3",
   "language": "python",
   "name": "python3"
  },
  "language_info": {
   "codemirror_mode": {
    "name": "ipython",
    "version": 3
   },
   "file_extension": ".py",
   "mimetype": "text/x-python",
   "name": "python",
   "nbconvert_exporter": "python",
   "pygments_lexer": "ipython3",
   "version": "3.7.1"
  }
 },
 "nbformat": 4,
 "nbformat_minor": 1
}
